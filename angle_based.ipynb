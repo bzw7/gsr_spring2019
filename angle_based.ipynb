{
 "cells": [
  {
   "cell_type": "code",
   "execution_count": 1,
   "metadata": {},
   "outputs": [],
   "source": [
    "# angle based method. uses angle between vectors \n",
    "import matplotlib.pyplot as plt\n",
    "import numpy as np\n",
    "import os\n",
    "import pandas as pd"
   ]
  },
  {
   "cell_type": "code",
   "execution_count": 2,
   "metadata": {},
   "outputs": [],
   "source": [
    "# file information\n",
    "header=['id','time_1','lat_1','long_1','heading','speed','consumer_id1','system_time1','x','y','local_time_1',\n",
    "      'id2','time_2','lat_2','long_2','heading_2','speed_2','consumer_id2','system_time2','x2','y2','local_time_2',\n",
    "      'speed_m','acceleration']\n",
    "data_dir = '../step_014_probe_add_segment_speed_and_acceleration'\n"
   ]
  },
  {
   "cell_type": "code",
   "execution_count": 3,
   "metadata": {},
   "outputs": [],
   "source": [
    "# store filenames in the given data_dir\n",
    "name_list=[]\n",
    "for folder in os.listdir(data_dir):\n",
    "    file_dir = os.path.join(data_dir, folder)\n",
    "    file_name = list(filter(lambda x: 'csv' in x, os.listdir(file_dir)))[0]\n",
    "    file_loc = os.path.join(file_dir, file_name)\n",
    "    name_list.append(file_loc)"
   ]
  },
  {
   "cell_type": "code",
   "execution_count": 18,
   "metadata": {},
   "outputs": [],
   "source": [
    "# helper functions\n",
    "\n",
    "def trajectory_from_table(df):\n",
    "# return a list of probe points for one csv file\n",
    "    trajectories = []\n",
    "    for index, row in df.iterrows():\n",
    "        trajectories.append([row['local_time_1'],row['x'],row['y'],row['speed']])\n",
    "    return trajectories"
   ]
  },
  {
   "cell_type": "code",
   "execution_count": null,
   "metadata": {},
   "outputs": [],
   "source": [
    "def normalize_trajectory(t):\n",
    "# return a normalizes trajectory\n",
    "    SCALE_DISTANCE = 1\n",
    "    SCALE_SPEED = 70\n",
    "\n",
    "    def kmph_to_mph(speed):\n",
    "        return speed/1.609\n",
    "\n",
    "    def norm_speed(speed):\n",
    "        return speed/SCALE_SPEED\n",
    "\n",
    "    def norm_distance(distance):\n",
    "        return distance/SCALE_DISTANCE\n",
    "    \n",
    "    def get_seconds(t):\n",
    "        import datetime\n",
    "        import time\n",
    "        x=time.strptime(t[11:19],'%H:%M:%S')\n",
    "        return datetime.timedelta(hours=x.tm_hour,minutes=x.tm_min,seconds=x.tm_sec).total_seconds()\n",
    "    \n",
    "    t_=[]\n",
    "    if len(t)>0:\n",
    "        start_time = get_seconds(t[0][0])\n",
    "        start_x = t[0][1]\n",
    "        start_y = t[0][2]\n",
    "    for i in range(len(t)):\n",
    "        t_.append([norm_distance(t[i][1]-start_x),norm_distance(t[i][2]-start_y),norm_speed(kmph_to_mph(t[i][3])),get_seconds(t[i][0])])\n",
    "    return t_"
   ]
  },
  {
   "cell_type": "code",
   "execution_count": null,
   "metadata": {},
   "outputs": [],
   "source": [
    "def find_turns(trajectory, min_angle = np.pi / 4):\n",
    "    # Define a minimum angle to treat change in direction\n",
    "    # as significant (valuable turning point).\n",
    "    \n",
    "    def angle(directions):\n",
    "        \"\"\"Return the angle between vectors\n",
    "        \"\"\"\n",
    "        vec2 = directions[1:]\n",
    "        vec1 = directions[:-1]\n",
    "\n",
    "        norm1 = np.sqrt((vec1 ** 2).sum(axis=1))\n",
    "        norm2 = np.sqrt((vec2 ** 2).sum(axis=1))\n",
    "        cos = (vec1 * vec2).sum(axis=1) / (norm1 * norm2)   \n",
    "        return np.arccos(cos)\n",
    "    \n",
    "    trajectory = np.array(trajectory)\n",
    "    x,y=trajectory[:,0],trajectory[:,1]\n",
    "    \n",
    "#  remove speed and other info from trajectories\n",
    "    trajectory = np.delete(trajectory,2,1)\n",
    "\n",
    "#     smoothen trajectories if required\n",
    "    from rdp import rdp    \n",
    "    simplified_trajectory = rdp(trajectory, epsilon=10)\n",
    "    sx, sy = simplified_trajectory.T\n",
    "\n",
    "   \n",
    "    # Compute the direction vectors on the simplified_trajectory.\n",
    "    directions = np.diff(simplified_trajectory, axis=0)\n",
    "#     get angles from direction vectors\n",
    "    theta = angle(directions)\n",
    "\n",
    "    # Select the index of the points with the greatest theta.\n",
    "    # Large theta is associated with greatest change in direction.\n",
    "    idx = np.where(theta > min_angle)[0] + 1\n",
    "    \n",
    "    # classify Left or right turn\n",
    "    idx_l = []\n",
    "    idx_r = []\n",
    "    for i in idx:\n",
    "        a_x,a_y=directions[i-1]\n",
    "        b_x,b_y=directions[i]\n",
    "        if (a_x*b_y>a_y*b_x):\n",
    "            idx_l.append(i)\n",
    "        else:\n",
    "            idx_r.append(i)\n",
    "    \n",
    "    # Visualize valuable turning points on the simplified trjectory.\n",
    "    if len(sx)>5:\n",
    "        print (np.diff(t_))\n",
    "        fig = plt.figure()\n",
    "        ax = fig.add_subplot(111)\n",
    "        ax.plot(x, y, 'r--', label='trajectory')\n",
    "        ax.plot(sx, sy, 'bx-', label='simple')\n",
    "        ax.plot(sx[idx_l], sy[idx_l], 'ro', markersize = 7, label='left turn')\n",
    "        ax.plot(sx[idx_r], sy[idx_r], 'go', markersize = 7, label='right turn')\n",
    "        ax.plot(0,0,'ko',markersize=7, label = 'start')\n",
    "        ax.set_xlabel(\"X\")\n",
    "        ax.set_ylabel(\"Y\")\n",
    "        plt.legend()"
   ]
  },
  {
   "cell_type": "code",
   "execution_count": 11,
   "metadata": {},
   "outputs": [],
   "source": [
    "# test small batches so easier to visualize\n",
    "def process_trajectory_batch(start,end):\n",
    "    for i in range(start,end):\n",
    "        df = pd.read_csv(name_list[i],header=None)\n",
    "        df.columns = header\n",
    "        find_turns(normalize_trajectory(trajectory_from_table(df)))"
   ]
  },
  {
   "cell_type": "code",
   "execution_count": 23,
   "metadata": {},
   "outputs": [
    {
     "name": "stdout",
     "output_type": "stream",
     "text": [
      "[ 61.  61.  60.  61. 122.]\n",
      "[  5.   1.  84.  89.  91.  90. 107.  90.  87.  60.  90.  90.  90.  59.\n",
      "  91.  90.  90.  90.  90.  90.  89.  91.  90.  90.  90.  90.  90.  89.\n",
      "  91.  90.  90.  90.   9.]\n"
     ]
    },
    {
     "data": {
      "image/png": "[encoded data removed]",
      "text/plain": [
       "<Figure size 432x288 with 1 Axes>"
      ]
     },
     "metadata": {
      "needs_background": "light"
     },
     "output_type": "display_data"
    },
    {
     "data": {
      "image/png": "[encoded data removed]",
      "text/plain": [
       "<Figure size 432x288 with 1 Axes>"
      ]
     },
     "metadata": {
      "needs_background": "light"
     },
     "output_type": "display_data"
    }
   ],
   "source": [
    "# test\n",
    "process_trajectory_batch(0,15)"
   ]
  }
 ],
 "metadata": {
  "kernelspec": {
   "display_name": "Python (data-x)",
   "language": "python",
   "name": "data-x"
  },
  "language_info": {
   "codemirror_mode": {
    "name": "ipython",
    "version": 3
   },
   "file_extension": ".py",
   "mimetype": "text/x-python",
   "name": "python",
   "nbconvert_exporter": "python",
   "pygments_lexer": "ipython3",
   "version": "3.6.7"
  }
 },
 "nbformat": 4,
 "nbformat_minor": 2
}
