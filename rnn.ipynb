{
 "cells": [
  {
   "cell_type": "code",
   "execution_count": 1,
   "metadata": {},
   "outputs": [],
   "source": [
    "import tensorflow as tf\n",
    "from tensorflow.keras.models import Sequential\n",
    "from tensorflow.keras.layers import Dense, Dropout, LSTM, CuDNNLSTM \n",
    "# No activation for CuDNNLSTM - uses tanh"
   ]
  },
  {
   "cell_type": "code",
   "execution_count": null,
   "metadata": {},
   "outputs": [],
   "source": [
    "# test with mnist data\n",
    "mnist = tf.keras.datasets.mnist\n",
    "(x_train,y_train),(x_test,y_test) = mnist.load_data()\n",
    "x_train,x_test = x_train/255.0,x_test/255.0"
   ]
  },
  {
   "cell_type": "code",
   "execution_count": 18,
   "metadata": {},
   "outputs": [],
   "source": [
    "# define the model architecture\n",
    "model = Sequential()\n",
    "model.add(LSTM(128,input_shape=(x_train.shape[1:]),activation='relu',return_sequences=True))\n",
    "model.add(Dropout(0.2))\n",
    "\n",
    "model.add(LSTM(128,activation='relu'))\n",
    "model.add(Dropout(0.2))\n",
    "\n",
    "model.add(Dense(32,activation='relu'))\n",
    "model.add(Dropout(0.2))\n",
    "\n",
    "model.add(Dense(10,activation='softmax'))"
   ]
  },
  {
   "cell_type": "code",
   "execution_count": 19,
   "metadata": {},
   "outputs": [],
   "source": [
    "# optimizer\n",
    "opt = tf.keras.optimizers.Adam(lr=1e-3, decay=1e-5)"
   ]
  },
  {
   "cell_type": "code",
   "execution_count": 20,
   "metadata": {},
   "outputs": [],
   "source": [
    "# compile\n",
    "model.compile(loss='sparse_categorical_crossentropy',\n",
    "             optimizer=opt,\n",
    "             metrics=['accuracy'])"
   ]
  },
  {
   "cell_type": "code",
   "execution_count": null,
   "metadata": {},
   "outputs": [],
   "source": [
    "# train\n",
    "model.fit(x_train,y_train,epochs=1)"
   ]
  },
  {
   "cell_type": "code",
   "execution_count": 23,
   "metadata": {},
   "outputs": [],
   "source": [
    "# save model\n",
    "tf.keras.models.save_model(model,'model')\n",
    "# load model\n",
    "model = tf.keras.models.load_model('model')"
   ]
  },
  {
   "cell_type": "code",
   "execution_count": 31,
   "metadata": {},
   "outputs": [
    {
     "data": {
      "text/plain": [
       "0.91105"
      ]
     },
     "execution_count": 31,
     "metadata": {},
     "output_type": "execute_result"
    }
   ],
   "source": [
    "# test model\n",
    "y_pred = model.predict(x_test)\n",
    "y_pred_c = y_pred.argmax(axis=-1)\n",
    "from sklearn.metrics import accuracy_score\n",
    "accuracy_score(y_test, y_pred_c)"
   ]
  },
  {
   "cell_type": "code",
   "execution_count": 33,
   "metadata": {},
   "outputs": [],
   "source": [
    "# test with trajectories\n",
    "# data generated using generate_random_trajectories.py\n",
    "\n",
    "import tensorflow as tf\n",
    "from tensorflow.keras.models import Sequential\n",
    "from tensorflow.keras.layers import Dense, Dropout, LSTM, CuDNNLSTM\n",
    "import pickle\n",
    "import numpy as np\n",
    "\n",
    "with open('data.pkl','rb') as f:\n",
    "    x_train,x_val,x_test,y_train,y_val,y_test = pickle.load(f)\n",
    "x_train,x_val,x_test,y_train,y_val,y_test = np.array(x_train),np.array(x_val),np.array(x_test),np.array(y_train),np.array(y_val),np.array(y_test)"
   ]
  },
  {
   "cell_type": "code",
   "execution_count": 34,
   "metadata": {},
   "outputs": [],
   "source": [
    "model = Sequential()\n",
    "model.add(LSTM(128,input_shape=(x_train.shape[1:]),activation='relu',return_sequences=True))\n",
    "model.add(Dropout(0.2))\n",
    "\n",
    "model.add(LSTM(128,activation='relu'))\n",
    "model.add(Dropout(0.2))\n",
    "\n",
    "model.add(Dense(32,activation='relu'))\n",
    "model.add(Dropout(0.2))\n",
    "\n",
    "model.add(Dense(4,activation='softmax'))"
   ]
  },
  {
   "cell_type": "code",
   "execution_count": 36,
   "metadata": {},
   "outputs": [
    {
     "name": "stdout",
     "output_type": "stream",
     "text": [
      "Train on 60000 samples, validate on 20000 samples\n",
      "Epoch 1/3\n",
      "60000/60000 [==============================] - 254s 4ms/step - loss: 0.5802 - acc: 0.7642 - val_loss: 0.4228 - val_acc: 0.8593\n",
      "Epoch 2/3\n",
      "60000/60000 [==============================] - 293s 5ms/step - loss: 0.4355 - acc: 0.8540 - val_loss: 0.3831 - val_acc: 0.8799\n",
      "Epoch 3/3\n",
      "60000/60000 [==============================] - 272s 5ms/step - loss: 0.3866 - acc: 0.8751 - val_loss: 0.3392 - val_acc: 0.8961\n"
     ]
    },
    {
     "data": {
      "text/plain": [
       "<tensorflow.python.keras.callbacks.History at 0x7f66d5bb4518>"
      ]
     },
     "execution_count": 36,
     "metadata": {},
     "output_type": "execute_result"
    }
   ],
   "source": [
    "opt = tf.keras.optimizers.Adam(lr=1e-3, decay=1e-5)\n",
    "model.compile(loss='sparse_categorical_crossentropy',\n",
    "             optimizer=opt,\n",
    "             metrics=['accuracy'])\n",
    "model.fit(x_train,y_train,epochs=3,validation_data=(x_val,y_val))"
   ]
  },
  {
   "cell_type": "code",
   "execution_count": 37,
   "metadata": {},
   "outputs": [
    {
     "data": {
      "text/plain": [
       "0.8936"
      ]
     },
     "execution_count": 37,
     "metadata": {},
     "output_type": "execute_result"
    }
   ],
   "source": [
    "tf.keras.models.save_model(model,'model2')\n",
    "# Model 2 has rotating data.  tested below,\n",
    "model = tf.keras.models.load_model('model2')\n",
    "y_pred = model.predict(x_test)\n",
    "y_pred_c = y_pred.argmax(axis=-1)\n",
    "from sklearn.metrics import accuracy_score\n",
    "accuracy_score(y_test, y_pred_c)"
   ]
  },
  {
   "cell_type": "code",
   "execution_count": null,
   "metadata": {},
   "outputs": [],
   "source": [
    "# Test on real trajectories"
   ]
  },
  {
   "cell_type": "code",
   "execution_count": null,
   "metadata": {},
   "outputs": [],
   "source": [
    "import pandas as pd\n",
    "import os\n",
    "import matplotlib.pyplot as plt\n",
    "import tensorflow as tf\n",
    "import numpy as np\n"
   ]
  },
  {
   "cell_type": "code",
   "execution_count": null,
   "metadata": {},
   "outputs": [],
   "source": [
    "# load data\n",
    "df=pd.read_csv('rand_traj_200.csv')"
   ]
  },
  {
   "cell_type": "code",
   "execution_count": null,
   "metadata": {},
   "outputs": [],
   "source": [
    "# process csv file to get individual trajectories\n",
    "trajectories = {}\n",
    "id_mapping={}\n",
    "c=0\n",
    "for index, row in df.iterrows():\n",
    "    if row['id'] not in id_mapping:\n",
    "        id_mapping[row['id']] = c+1\n",
    "        c=c+1\n",
    "    if id_mapping[row['id']] not in trajectories:\n",
    "        trajectories[id_mapping[row['id']]] = []    \n",
    "    trajectories[id_mapping[row['id']]].append([row['local_time_1'],row['x'],row['y'],row['speed']])"
   ]
  },
  {
   "cell_type": "code",
   "execution_count": null,
   "metadata": {},
   "outputs": [],
   "source": [
    "# functions to normalize data based on the parameters used for the randomly generated data\n",
    "# update SCALE_DISTANCE and SCALE_SPEED if updated there\n",
    "\n",
    "SCALE_DISTANCE = 1500\n",
    "SCALE_SPEED = 70\n",
    "\n",
    "def get_seconds(t):\n",
    "    import datetime\n",
    "    import time\n",
    "    x=time.strptime(t[11:19],'%H:%M:%S')\n",
    "    return datetime.timedelta(hours=x.tm_hour,minutes=x.tm_min,seconds=x.tm_sec).total_seconds()\n",
    "\n",
    "def kmph_to_mph(speed):\n",
    "    return speed/1.609\n",
    "\n",
    "def norm_speed(speed):\n",
    "    return speed/SCALE_SPEED\n",
    "\n",
    "def norm_distance(distance):\n",
    "    return distance/1"
   ]
  },
  {
   "cell_type": "code",
   "execution_count": null,
   "metadata": {},
   "outputs": [],
   "source": [
    "# extract normalized trajectories in x_test\n",
    "# only trajectories that have between 12 and 24 points are considered here\n",
    "x_test=[]\n",
    "x_time = []\n",
    "x_count=[]\n",
    "for key in trajectories:\n",
    "    t = trajectories[key]\n",
    "    t_ = []\n",
    "    if len(t)>0:\n",
    "        start_time = get_seconds(t[0][0])\n",
    "        start_x = t[0][1]\n",
    "        start_y = t[0][2]\n",
    "        \n",
    "    for i in range(len(t)):\n",
    "        t_.append([norm_distance(t[i][1]-start_x),norm_distance(t[i][2]-start_y),norm_speed(kmph_to_mph(t[i][3]))])\n",
    "    \n",
    "    if len(t_)>=12 and len(t_)<=24:\n",
    "        if len(t_)>12:\n",
    "            t_=t_[0:12]\n",
    "        x_test.append(t_)"
   ]
  },
  {
   "cell_type": "code",
   "execution_count": null,
   "metadata": {},
   "outputs": [],
   "source": [
    "# test\n",
    "y_pred = model.predict(np.array(x_test))\n",
    "y_pred_c = y_pred.argmax(axis=-1)\n",
    "# accuracy: 0.8732394366197183"
   ]
  },
  {
   "cell_type": "code",
   "execution_count": null,
   "metadata": {},
   "outputs": [],
   "source": []
  },
  {
   "cell_type": "code",
   "execution_count": null,
   "metadata": {},
   "outputs": [],
   "source": []
  },
  {
   "cell_type": "code",
   "execution_count": null,
   "metadata": {},
   "outputs": [],
   "source": []
  },
  {
   "cell_type": "code",
   "execution_count": null,
   "metadata": {},
   "outputs": [],
   "source": []
  },
  {
   "cell_type": "code",
   "execution_count": null,
   "metadata": {},
   "outputs": [],
   "source": []
  },
  {
   "cell_type": "code",
   "execution_count": null,
   "metadata": {},
   "outputs": [],
   "source": []
  },
  {
   "cell_type": "code",
   "execution_count": null,
   "metadata": {},
   "outputs": [],
   "source": []
  }
 ],
 "metadata": {
  "kernelspec": {
   "display_name": "Python (data-x)",
   "language": "python",
   "name": "data-x"
  },
  "language_info": {
   "codemirror_mode": {
    "name": "ipython",
    "version": 3
   },
   "file_extension": ".py",
   "mimetype": "text/x-python",
   "name": "python",
   "nbconvert_exporter": "python",
   "pygments_lexer": "ipython3",
   "version": "3.6.7"
  }
 },
 "nbformat": 4,
 "nbformat_minor": 2
}
